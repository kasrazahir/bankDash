{
 "cells": [
  {
   "cell_type": "code",
   "execution_count": 472,
   "metadata": {},
   "outputs": [],
   "source": [
    "import pandas as pd\n",
    "import json\n",
    "import math"
   ]
  },
  {
   "cell_type": "code",
   "execution_count": 473,
   "metadata": {},
   "outputs": [],
   "source": [
    "data = pd.read_csv(\"./assets/data.csv\", header=None, names=['date','item', 'debit', 'credit','subCategory'],index_col=False)\n",
    "maps = pd.read_csv(\"./rules/1to1maps.csv\", header=None, names=['item', 'subCategory'])\n",
    "subCategories = pd.read_csv(\"./rules/categories.csv\", header=None, names=['item', 'subCategory'])\n",
    "categories = pd.read_csv(\"./rules/breakdown.csv\", header=None, names=['subCategory', 'category'])\n",
    "\n",
    "categoryMap ={}\n",
    "for i, row in categories.iterrows():\n",
    "    categoryMap[row['subCategory']] = row['category']\n",
    "\n",
    "data.fillna(\"\", inplace=True)\n"
   ]
  },
  {
   "cell_type": "code",
   "execution_count": 474,
   "metadata": {
    "collapsed": true
   },
   "outputs": [],
   "source": [
    "subCatArray = []\n",
    "# first mapping the 1to1 mappings\n",
    "for i, row in data.iterrows():\n",
    "    if (row['subCategory'] != \"\"):\n",
    "        subCatArray.append(row['subCategory'])\n",
    "    else:\n",
    "        try:\n",
    "            index = pd.Index(maps['item']).get_loc(row['item'].rstrip())\n",
    "            subCategory = maps.loc[index]['subCategory']\n",
    "            subCatArray.append(subCategory)\n",
    "        except:\n",
    "            subCatArray.append(\"\")"
   ]
  },
  {
   "cell_type": "code",
   "execution_count": 475,
   "metadata": {},
   "outputs": [],
   "source": [
    "# then mapping all the general categories\n",
    "data['subCategory'] = subCatArray\n",
    "subCatArray = pd.Series(subCatArray)   \n",
    "\n",
    "for i, categoryRow in subCategories.iloc[::-1].iterrows():\n",
    "    indo = ((data['item'].str.contains(categoryRow['item'])) & (data['subCategory']==\"\"))\n",
    "    subCatArray[indo] = categoryRow['subCategory']\n",
    "    \n",
    "data['balance']=data['credit']-data['debit']"
   ]
  },
  {
   "cell_type": "code",
   "execution_count": 476,
   "metadata": {},
   "outputs": [],
   "source": [
    "# finally taking care of special categories with logic\n",
    "specialCategories = subCategories[subCategories['item'].str.contains('{{')]\n",
    "for i, categoryRow in specialCategories.iterrows():\n",
    "    itemValuePair = categoryRow['item'].replace('}}', '').split('{{')\n",
    "    indo = (data['item'].str.contains(itemValuePair[0].rstrip()) & (data['balance']==(float(itemValuePair[1]))))\n",
    "    subCatArray[indo] = categoryRow['subCategory']"
   ]
  },
  {
   "cell_type": "code",
   "execution_count": 477,
   "metadata": {
    "collapsed": true
   },
   "outputs": [],
   "source": [
    "data['subCategory'] = subCatArray\n",
    "data['category'] = data['subCategory'].map(categoryMap)\n",
    "data['year']= pd.to_datetime(data['date']).dt.year\n",
    "data['month']= pd.to_datetime(data['date']).dt.month"
   ]
  },
  {
   "cell_type": "code",
   "execution_count": 478,
   "metadata": {},
   "outputs": [
    {
     "name": "stdout",
     "output_type": "stream",
     "text": [
      "unCategorized items\n",
      "                                                   item        date  balance\n",
      "3081     ONE CUT VINYL 8778877815 217.30 GBP @ 2.068890  2016-02-01  -449.57\n",
      "3420    HANANOMAI KAYABACHO TOKYO 4811.00 JPY @ .010295  2015-06-25   -49.53\n",
      "3422  LIMOUSINE BUS NARITA2 KIT CHIBA 3800.00 JPY @ ...  2015-06-24   -39.11\n",
      "3701  WILDFIRE (THE PEAK) (1203 THE PEAK 162.80 HKD ...  2014-12-12   -24.86\n",
      "4894  Point of Sale - Interac RETAIL PURCHASE 000001...  2018-01-11   -11.00\n",
      "4901  Point of Sale - Interac RETAIL PURCHASE 000068...  2018-01-08   -28.20\n",
      "4912  AIR FRANCE 0571409230279 ROISSY CDG CE 87.67 E...  2018-01-26  -138.51\n",
      "4913  AIR FRANCE 0571409230280 ROISSY CDG CE 87.67 E...  2018-01-26  -138.51\n",
      "4914  AIR FRANCE 0578252207759 ROISSY CDG CE 12.00 E...  2018-01-26   -18.96\n",
      "4916  EASYJET 000 ETJ5X8 LUTON, BEDS 90.28 EUR @ 1.5...  2018-01-25  -141.88\n",
      "4930                 SHEHERZADE PERSIAN GRI TORONTO, ON  2018-01-12   -22.32\n",
      "4932                       WOW AIR EHF 012NVM REYKJAVIK  2018-01-12 -1273.84\n",
      "4951               GO TRANSIT UNION STATION TORONTO, ON  2018-01-05   -66.00\n"
     ]
    }
   ],
   "source": [
    "dataWithCategory = (data[data['subCategory'] != \"\"])\n",
    "dataWithoutCategory = (data[data['subCategory'] == \"\"])\n",
    "dataWithCategory[['item','category','subCategory','date','year','month','debit','credit','balance']].sort_values(by='date', ascending=False).to_csv('./processed/processed.csv', index=False)\n",
    "dataWithoutCategory[['item','date','balance']].to_csv('./processed/not_found.csv')\n",
    "\n",
    "print('unCategorized items')\n",
    "print(dataWithoutCategory[['item','date','balance']])\n"
   ]
  },
  {
   "cell_type": "code",
   "execution_count": null,
   "metadata": {},
   "outputs": [],
   "source": []
  },
  {
   "cell_type": "code",
   "execution_count": null,
   "metadata": {
    "collapsed": true
   },
   "outputs": [],
   "source": []
  },
  {
   "cell_type": "code",
   "execution_count": 479,
   "metadata": {},
   "outputs": [
    {
     "name": "stdout",
     "output_type": "stream",
     "text": [
      "29935.72 29935.72\n",
      "-5958.06 -5856.37\n",
      "28060.0 29630.0\n",
      "-8394.98 -8418.56\n",
      "-11333.58 -11435.27\n",
      "-18.95 -1588.95\n"
     ]
    }
   ],
   "source": [
    "# TESTING TWO FILES\n",
    "old = pd.read_csv(\"./processed/output-old.csv\", index_col=False)\n",
    "new = pd.read_csv(\"./processed/processed.csv\", index_col=False)\n",
    "old.sort_values(by=['date','debit'], inplace=True)\n",
    "new.sort_values(by=['date','debit'], inplace=True)\n",
    "old.reset_index( drop=True,inplace=True)\n",
    "new.reset_index(drop=True,inplace=True)\n",
    "ineq = []\n",
    "for i, row in old.iterrows():\n",
    "    if (row['subCategory'] != new.loc[i]['subCategory']):\n",
    "        if(row['item']==\"TIGERDIRECT.CA MARKHAM, ON\"):\n",
    "            pass\n",
    "        elif('WINNERSHOMESENSE' in row['item']):\n",
    "            pass\n",
    "        else:\n",
    "            pass\n",
    "#             print(f\"{row['subCategory']}, {new.loc[i]['subCategory']} - {row['balance']} {row['item']}{new.loc[i]['item']}\")\n",
    "            \n",
    "\n",
    "y = new.groupby('subCategory').sum()['balance']\n",
    "x = old.groupby('subCategory').sum()['balance']\n",
    "for i,value in enumerate(x):\n",
    "    if(value != y[i]):\n",
    "        print(value, y[i])"
   ]
  },
  {
   "cell_type": "code",
   "execution_count": 480,
   "metadata": {},
   "outputs": [],
   "source": [
    "# one to one map benchmarking\n",
    "def try1():    \n",
    "    def check1to1(x):\n",
    "        try:\n",
    "            index = pd.Index(maps['item']).get_loc(x.rstrip())   \n",
    "            return maps.loc[index]['subCategory']\n",
    "        except:\n",
    "            return None\n",
    "\n",
    "    data['subCategory'] = data['subCategory'].combine_first(data['item'].apply(check1to1))\n",
    "    \n",
    "def try2():\n",
    "    data.fillna(\"\", inplace=True)\n",
    "    subCatArray = []\n",
    "    # first mapping the 1to1 mappings\n",
    "    for i, row in data.iterrows():\n",
    "        if (row['subCategory'] != \"\"):\n",
    "            subCatArray.append(row['subCategory'])\n",
    "        else:\n",
    "            try:\n",
    "                index = pd.Index(maps['item']).get_loc(row['item'].rstrip())\n",
    "                subCategory = maps.loc[index]['subCategory']\n",
    "                subCatArray.append(subCategory)\n",
    "            except:\n",
    "                subCatArray.append(\"\")\n",
    "    data['subCategory'] = subCatArray\n"
   ]
  },
  {
   "cell_type": "code",
   "execution_count": 319,
   "metadata": {},
   "outputs": [
    {
     "name": "stdout",
     "output_type": "stream",
     "text": [
      "483 ms ± 15.3 ms per loop (mean ± std. dev. of 7 runs, 1 loop each)\n"
     ]
    }
   ],
   "source": [
    "%timeit try1()"
   ]
  },
  {
   "cell_type": "code",
   "execution_count": 321,
   "metadata": {},
   "outputs": [
    {
     "name": "stdout",
     "output_type": "stream",
     "text": [
      "696 ms ± 2.83 ms per loop (mean ± std. dev. of 7 runs, 1 loop each)\n"
     ]
    }
   ],
   "source": [
    "%timeit try2()"
   ]
  },
  {
   "cell_type": "code",
   "execution_count": null,
   "metadata": {},
   "outputs": [],
   "source": []
  },
  {
   "cell_type": "code",
   "execution_count": null,
   "metadata": {
    "collapsed": true
   },
   "outputs": [],
   "source": []
  }
 ],
 "metadata": {
  "kernelspec": {
   "display_name": "Python 3",
   "language": "python",
   "name": "python3"
  },
  "language_info": {
   "codemirror_mode": {
    "name": "ipython",
    "version": 3
   },
   "file_extension": ".py",
   "mimetype": "text/x-python",
   "name": "python",
   "nbconvert_exporter": "python",
   "pygments_lexer": "ipython3",
   "version": "3.6.3"
  }
 },
 "nbformat": 4,
 "nbformat_minor": 2
}
